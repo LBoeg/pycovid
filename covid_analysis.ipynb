{
 "cells": [
  {
   "cell_type": "code",
   "execution_count": 86,
   "metadata": {},
   "outputs": [],
   "source": [
    "# Import python libraries\n",
    "import pandas as pd\n",
    "import numpy as np\n",
    "%matplotlib inline\n",
    "import matplotlib.pyplot as plt\n",
    "from matplotlib import style\n",
    "from datetime import datetime\n",
    "\n",
    "style.use('ggplot')"
   ]
  },
  {
   "cell_type": "code",
   "execution_count": 23,
   "metadata": {},
   "outputs": [],
   "source": [
    "# Load data function\n",
    "def load_data(data_url, file_name, column_name):\n",
    "    data = pd.read_csv(data_url + file_name) \\\n",
    "             .drop(['Lat', 'Long'], axis=1) \\\n",
    "             .melt(id_vars=['Province/State', 'Country/Region'], \\\n",
    "                   var_name='date', value_name=column_name) \\\n",
    "             .fillna('<all>')\n",
    "    data['date'] = data['date'].astype('datetime64[ns]')\n",
    "    return data"
   ]
  },
  {
   "cell_type": "code",
   "execution_count": 24,
   "metadata": {},
   "outputs": [
    {
     "name": "stdout",
     "output_type": "stream",
     "text": [
      "  Province/State Country/Region       date  CumConfirmed\n",
      "0          <all>       Thailand 2020-01-22             2\n",
      "1          <all>          Japan 2020-01-22             2\n",
      "2          <all>      Singapore 2020-01-22             0\n",
      "3          <all>          Nepal 2020-01-22             0\n",
      "4          <all>       Malaysia 2020-01-22             0\n"
     ]
    }
   ],
   "source": [
    "# Read the data from the JHU Database\n",
    "data_url = \"https://raw.githubusercontent.com/CSSEGISandData/COVID-19/master/csse_covid_19_data/csse_covid_19_time_series/\"\n",
    "data = load_data(data_url, \"time_series_19-covid-Confirmed.csv\", \"CumConfirmed\")\n",
    "#print(data.head())"
   ]
  },
  {
   "cell_type": "code",
   "execution_count": 25,
   "metadata": {},
   "outputs": [
    {
     "name": "stdout",
     "output_type": "stream",
     "text": [
      "['Afghanistan' 'Albania' 'Algeria' 'Andorra' 'Angola'\n",
      " 'Antigua and Barbuda' 'Argentina' 'Armenia' 'Australia' 'Austria'\n",
      " 'Azerbaijan' 'Bahamas, The' 'Bahrain' 'Bangladesh' 'Barbados' 'Belarus'\n",
      " 'Belgium' 'Benin' 'Bhutan' 'Bolivia' 'Bosnia and Herzegovina' 'Brazil'\n",
      " 'Brunei' 'Bulgaria' 'Burkina Faso' 'Cabo Verde' 'Cambodia' 'Cameroon'\n",
      " 'Canada' 'Cape Verde' 'Central African Republic' 'Chad' 'Chile' 'China'\n",
      " 'Colombia' 'Congo (Brazzaville)' 'Congo (Kinshasa)' 'Costa Rica'\n",
      " \"Cote d'Ivoire\" 'Croatia' 'Cruise Ship' 'Cuba' 'Cyprus' 'Czechia'\n",
      " 'Denmark' 'Djibouti' 'Dominican Republic' 'East Timor' 'Ecuador' 'Egypt'\n",
      " 'El Salvador' 'Equatorial Guinea' 'Eritrea' 'Estonia' 'Eswatini'\n",
      " 'Ethiopia' 'Fiji' 'Finland' 'France' 'Gabon' 'Gambia, The' 'Georgia'\n",
      " 'Germany' 'Ghana' 'Greece' 'Guatemala' 'Guinea' 'Guyana' 'Haiti'\n",
      " 'Holy See' 'Honduras' 'Hungary' 'Iceland' 'India' 'Indonesia' 'Iran'\n",
      " 'Iraq' 'Ireland' 'Israel' 'Italy' 'Jamaica' 'Japan' 'Jordan' 'Kazakhstan'\n",
      " 'Kenya' 'Korea, South' 'Kosovo' 'Kuwait' 'Kyrgyzstan' 'Latvia' 'Lebanon'\n",
      " 'Liberia' 'Liechtenstein' 'Lithuania' 'Luxembourg' 'Madagascar'\n",
      " 'Malaysia' 'Maldives' 'Malta' 'Martinique' 'Mauritania' 'Mauritius'\n",
      " 'Mexico' 'Moldova' 'Monaco' 'Mongolia' 'Montenegro' 'Morocco' 'Namibia'\n",
      " 'Nepal' 'Netherlands' 'New Zealand' 'Nicaragua' 'Niger' 'Nigeria'\n",
      " 'North Macedonia' 'Norway' 'Oman' 'Pakistan' 'Panama' 'Papua New Guinea'\n",
      " 'Paraguay' 'Peru' 'Philippines' 'Poland' 'Portugal' 'Qatar' 'Romania'\n",
      " 'Russia' 'Rwanda' 'Saint Lucia' 'Saint Vincent and the Grenadines'\n",
      " 'San Marino' 'Saudi Arabia' 'Senegal' 'Serbia' 'Seychelles' 'Singapore'\n",
      " 'Slovakia' 'Slovenia' 'Somalia' 'South Africa' 'Spain' 'Sri Lanka'\n",
      " 'Sudan' 'Suriname' 'Sweden' 'Switzerland' 'Taiwan*' 'Tanzania' 'Thailand'\n",
      " 'Togo' 'Trinidad and Tobago' 'Tunisia' 'Turkey' 'US' 'Uganda' 'Ukraine'\n",
      " 'United Arab Emirates' 'United Kingdom' 'Uruguay' 'Uzbekistan'\n",
      " 'Venezuela' 'Vietnam' 'Zambia' 'Zimbabwe']\n"
     ]
    }
   ],
   "source": [
    "# Analyze the country/region portion of the data\n",
    "countries = data['Country/Region'].unique()\n",
    "countries.sort()\n",
    "#print(countries)"
   ]
  },
  {
   "cell_type": "code",
   "execution_count": 26,
   "metadata": {},
   "outputs": [
    {
     "name": "stdout",
     "output_type": "stream",
     "text": [
      "             Province/State       date  CumConfirmed\n",
      "0                Washington 2020-01-22             0\n",
      "1                  New York 2020-01-22             0\n",
      "2                California 2020-01-22             0\n",
      "3             Massachusetts 2020-01-22             0\n",
      "4          Diamond Princess 2020-01-22             0\n",
      "5            Grand Princess 2020-01-22             0\n",
      "6                   Georgia 2020-01-22             0\n",
      "7                  Colorado 2020-01-22             0\n",
      "8                   Florida 2020-01-22             0\n",
      "9                New Jersey 2020-01-22             0\n",
      "10                   Oregon 2020-01-22             0\n",
      "11                    Texas 2020-01-22             0\n",
      "12                 Illinois 2020-01-22             0\n",
      "13             Pennsylvania 2020-01-22             0\n",
      "14                     Iowa 2020-01-22             0\n",
      "15                 Maryland 2020-01-22             0\n",
      "16           North Carolina 2020-01-22             0\n",
      "17           South Carolina 2020-01-22             0\n",
      "18                Tennessee 2020-01-22             0\n",
      "19                 Virginia 2020-01-22             0\n",
      "20                  Arizona 2020-01-22             0\n",
      "21                  Indiana 2020-01-22             0\n",
      "22                 Kentucky 2020-01-22             0\n",
      "23     District of Columbia 2020-01-22             0\n",
      "24                   Nevada 2020-01-22             0\n",
      "25            New Hampshire 2020-01-22             0\n",
      "26                Minnesota 2020-01-22             0\n",
      "27                 Nebraska 2020-01-22             0\n",
      "28                     Ohio 2020-01-22             0\n",
      "29             Rhode Island 2020-01-22             0\n",
      "...                     ...        ...           ...\n",
      "14790             Bucks, PA 2020-03-21             0\n",
      "14791           Hanover, VA 2020-03-21             0\n",
      "14792         Lancaster, SC 2020-03-21             0\n",
      "14793          Sullivan, TN 2020-03-21             0\n",
      "14794           Johnson, IN 2020-03-21             0\n",
      "14795            Howard, IN 2020-03-21             0\n",
      "14796        St. Joseph, IN 2020-03-21             0\n",
      "14797              Knox, NE 2020-03-21             0\n",
      "14798             Stark, OH 2020-03-21             0\n",
      "14799             Anoka, MN 2020-03-21             0\n",
      "14800           Olmsted, MN 2020-03-21             0\n",
      "14801            Summit, UT 2020-03-21             0\n",
      "14802         Fairfield, CT 2020-03-21             0\n",
      "14803        Litchfield, CT 2020-03-21             0\n",
      "14804           Orleans, LA 2020-03-21             0\n",
      "14805        Pennington, SD 2020-03-21             0\n",
      "14806            Beadle, SD 2020-03-21             0\n",
      "14807       Charles Mix, SD 2020-03-21             0\n",
      "14808           Davison, SD 2020-03-21             0\n",
      "14809         Minnehaha, SD 2020-03-21             0\n",
      "14810         Bon Homme, SD 2020-03-21             0\n",
      "14811           Socorro, NM 2020-03-21             0\n",
      "14812        Bernalillo, NM 2020-03-21             0\n",
      "14813           Oakland, MI 2020-03-21             0\n",
      "14814             Wayne, MI 2020-03-21             0\n",
      "14815        New Castle, DE 2020-03-21             0\n",
      "14816               Alabama 2020-03-21           131\n",
      "14817           Puerto Rico 2020-03-21            21\n",
      "14818                  Guam 2020-03-21            15\n",
      "14819        Virgin Islands 2020-03-21             3\n",
      "\n",
      "[14820 rows x 3 columns]\n"
     ]
    }
   ],
   "source": [
    "# Retain just the US data\n",
    "us_data = data[data['Country/Region']==\"US\"].drop([\"Country/Region\"],axis=1)\n",
    "us_data.reset_index(inplace=True, drop=True)\n",
    "#print(us_data)"
   ]
  },
  {
   "cell_type": "code",
   "execution_count": 27,
   "metadata": {},
   "outputs": [
    {
     "name": "stdout",
     "output_type": "stream",
     "text": [
      "324\n"
     ]
    }
   ],
   "source": [
    "# Analyze the province/state portion of the data\n",
    "state = data['Province/State'].unique()\n",
    "state.sort()\n",
    "print(len(state))"
   ]
  },
  {
   "cell_type": "code",
   "execution_count": 78,
   "metadata": {},
   "outputs": [],
   "source": [
    "# Retain just the MD data\n",
    "md_data = us_data[us_data['Province/State']==\"Maryland\"].drop([\"Province/State\"],axis=1)\n",
    "md_data.reset_index(inplace=True, drop=True)\n",
    "#print(md_data)\n",
    "\n",
    "# Retain just the PA data\n",
    "pa_data = us_data[us_data['Province/State']==\"Pennsylvania\"].drop([\"Province/State\"],axis=1)\n",
    "pa_data.reset_index(inplace=True, drop=True)\n",
    "#print(pa_data)"
   ]
  },
  {
   "cell_type": "code",
   "execution_count": 143,
   "metadata": {
    "scrolled": false
   },
   "outputs": [
    {
     "data": {
      "image/png": "[encoded data removed]",
      "text/plain": [
       "<Figure size 1440x720 with 1 Axes>"
      ]
     },
     "metadata": {},
     "output_type": "display_data"
    }
   ],
   "source": [
    "# Plot the data\n",
    "plt.figure(figsize=(20,10))\n",
    "ax = plt.subplot(111)\n",
    "fig_pa = ax.bar(pa_data[\"date\"],pa_data[\"CumConfirmed\"], width=np.timedelta64(16, 'h'), color='b', alpha=0.8)\n",
    "fig_md = ax.bar(md_data[\"date\"],md_data[\"CumConfirmed\"], width=np.timedelta64(16, 'h'), color='r', alpha=0.8)\n",
    "ax.axis([\"2020-02-20\", datetime.date(datetime.now()),0,np.maximum(np.max(pa_data[\"CumConfirmed\"].values),np.max(md_data[\"CumConfirmed\"].values))*1.10])\n",
    "plt.title(\"Cumulative Confirmed Cases in PA (blue) and MD (red)\")\n",
    "\n",
    "# Add tick mark at events\n",
    "for i, fig in enumerate(fig_pa):\n",
    "    x = fig.get_x()\n",
    "    wid = fig.get_width()\n",
    "    height = pa_data[\"CumConfirmed\"].values[i]\n",
    "\n",
    "    if str(x) == \"2020-03-12T16:00:00.000000000\":\n",
    "        ax.text(x + wid/2., 1.05*height, \"MD Closes\\nSchools &\\nProhibits\\nGatherings\", ha='center', va='bottom', rotation=0)\n",
    "\n",
    "    if str(x) == \"2020-03-19T16:00:00.000000000\":\n",
    "        ax.text(x + wid/2., 1.05*height, \"PA Closes\\nAll\\nBusinesses\", ha='center', va='bottom', rotation=0)\n",
    "        \n",
    "plt.show()"
   ]
  },
  {
   "cell_type": "code",
   "execution_count": 30,
   "metadata": {},
   "outputs": [],
   "source": []
  },
  {
   "cell_type": "code",
   "execution_count": 74,
   "metadata": {},
   "outputs": [],
   "source": []
  },
  {
   "cell_type": "code",
   "execution_count": null,
   "metadata": {},
   "outputs": [],
   "source": []
  }
 ],
 "metadata": {
  "kernelspec": {
   "display_name": "Python 3",
   "language": "python",
   "name": "python3"
  },
  "language_info": {
   "codemirror_mode": {
    "name": "ipython",
    "version": 3
   },
   "file_extension": ".py",
   "mimetype": "text/x-python",
   "name": "python",
   "nbconvert_exporter": "python",
   "pygments_lexer": "ipython3",
   "version": "3.6.5"
  }
 },
 "nbformat": 4,
 "nbformat_minor": 2
}
