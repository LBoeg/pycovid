{
 "cells": [
  {
   "cell_type": "code",
   "execution_count": 44,
   "metadata": {},
   "outputs": [],
   "source": [
    "# Import python libraries\n",
    "import pandas as pd\n",
    "import numpy as np\n",
    "%matplotlib inline\n",
    "import matplotlib.pyplot as plt\n",
    "from matplotlib import style\n",
    "from datetime import datetime\n",
    "import wikipediaapi\n",
    "\n",
    "style.use('ggplot')"
   ]
  },
  {
   "cell_type": "code",
   "execution_count": 2,
   "metadata": {},
   "outputs": [],
   "source": [
    "# Load data function\n",
    "def load_data(data_url, file_name, column_name):\n",
    "    data = pd.read_csv(data_url + file_name) \\\n",
    "             .drop(['Lat', 'Long'], axis=1) \\\n",
    "             .melt(id_vars=['Province/State', 'Country/Region'], \\\n",
    "                   var_name='date', value_name=column_name) \\\n",
    "             .fillna('<all>')\n",
    "    data['date'] = data['date'].astype('datetime64[ns]')\n",
    "    return data"
   ]
  },
  {
   "cell_type": "code",
   "execution_count": 3,
   "metadata": {},
   "outputs": [],
   "source": [
    "# Read the data from the JHU Database\n",
    "data_url = \"https://raw.githubusercontent.com/CSSEGISandData/COVID-19/master/csse_covid_19_data/csse_covid_19_time_series/\"\n",
    "data = load_data(data_url, \"time_series_19-covid-Confirmed.csv\", \"CumConfirmed\")\n",
    "#print(data.head())"
   ]
  },
  {
   "cell_type": "code",
   "execution_count": 4,
   "metadata": {},
   "outputs": [],
   "source": [
    "# Analyze the country/region portion of the data\n",
    "countries = data['Country/Region'].unique()\n",
    "countries.sort()\n",
    "#print(countries)"
   ]
  },
  {
   "cell_type": "code",
   "execution_count": 5,
   "metadata": {},
   "outputs": [],
   "source": [
    "# Retain just the US data\n",
    "us_data = data[data['Country/Region']==\"US\"].drop([\"Country/Region\"],axis=1)\n",
    "us_data.reset_index(inplace=True, drop=True)\n",
    "#print(us_data)"
   ]
  },
  {
   "cell_type": "code",
   "execution_count": 6,
   "metadata": {},
   "outputs": [],
   "source": [
    "# Analyze the province/state portion of the data\n",
    "state = data['Province/State'].unique()\n",
    "state.sort()\n",
    "#print(len(state))"
   ]
  },
  {
   "cell_type": "code",
   "execution_count": 65,
   "metadata": {},
   "outputs": [],
   "source": [
    "# Retain just the MD data\n",
    "md_data = us_data[us_data['Province/State']==\"Maryland\"].drop([\"Province/State\"],axis=1)\n",
    "md_data.reset_index(inplace=True, drop=True)\n",
    "#print(md_data)\n",
    "\n",
    "# Retain just the PA data\n",
    "pa_data = us_data[us_data['Province/State']==\"Pennsylvania\"].drop([\"Province/State\"],axis=1)\n",
    "pa_data.reset_index(inplace=True, drop=True)\n",
    "#print(pa_data)"
   ]
  },
  {
   "cell_type": "code",
   "execution_count": 32,
   "metadata": {},
   "outputs": [],
   "source": [
    "# Create new column with days since first case\n",
    "md_data = md_data.iloc[md_data[\"CumConfirmed\"].nonzero()[0]].reset_index(drop=True)\n",
    "md_data[\"DaysSinceFirstCase\"] = np.arange(md_data.shape[0])\n",
    "\n",
    "pa_data = pa_data.iloc[pa_data[\"CumConfirmed\"].nonzero()[0]].reset_index(drop=True)\n",
    "pa_data[\"DaysSinceFirstCase\"] = np.arange(pa_data.shape[0])"
   ]
  },
  {
   "cell_type": "code",
   "execution_count": 66,
   "metadata": {},
   "outputs": [],
   "source": [
    "# Read information from wikipedia\n",
    "wiki = wikipediaapi.Wikipedia('en')\n",
    "state = \"Maryland\"\n",
    "md_wiki = wiki.page(\"2020 coronavirus pandemic in {}\".format(state))\n",
    "#print(md_wiki.text)"
   ]
  },
  {
   "cell_type": "code",
   "execution_count": 71,
   "metadata": {},
   "outputs": [
    {
     "name": "stdout",
     "output_type": "stream",
     "text": [
      "[23, 157, 242, 259, 406, 503, 598, 820, 1323, 1736, 2272, 3257, 3824, 4208]\n"
     ]
    }
   ],
   "source": [
    "# Extract the government response section\n",
    "gov_resp_indx = md_wiki.text.lower().find(\"government response\")\n",
    "end_gov_resp_indx = md_wiki.text.lower().find(\"impact on sports\")\n",
    "#print(md_wiki.text[gov_resp_indx:end_gov_resp_indx].replace(\".\", \".\\n\"))\n",
    "gov_resp_text = md_wiki.text[gov_resp_indx:end_gov_resp_indx]\n",
    "dates_indx = [i for i in range(len(gov_resp_text)) if gov_resp_text.startswith(\"March\", i)] \n",
    "print(dates_indx)"
   ]
  },
  {
   "cell_type": "code",
   "execution_count": 33,
   "metadata": {},
   "outputs": [
    {
     "data": {
      "text/html": [
       "<div>\n",
       "<style scoped>\n",
       "    .dataframe tbody tr th:only-of-type {\n",
       "        vertical-align: middle;\n",
       "    }\n",
       "\n",
       "    .dataframe tbody tr th {\n",
       "        vertical-align: top;\n",
       "    }\n",
       "\n",
       "    .dataframe thead th {\n",
       "        text-align: right;\n",
       "    }\n",
       "</style>\n",
       "<table border=\"1\" class=\"dataframe\">\n",
       "  <thead>\n",
       "    <tr style=\"text-align: right;\">\n",
       "      <th></th>\n",
       "      <th>date</th>\n",
       "      <th>CumConfirmed</th>\n",
       "      <th>DaysSinceFirstCase</th>\n",
       "      <th>GovAction</th>\n",
       "    </tr>\n",
       "  </thead>\n",
       "  <tbody>\n",
       "    <tr>\n",
       "      <th>0</th>\n",
       "      <td>2020-03-10</td>\n",
       "      <td>12</td>\n",
       "      <td>0</td>\n",
       "      <td>none</td>\n",
       "    </tr>\n",
       "    <tr>\n",
       "      <th>1</th>\n",
       "      <td>2020-03-11</td>\n",
       "      <td>16</td>\n",
       "      <td>1</td>\n",
       "      <td>none</td>\n",
       "    </tr>\n",
       "    <tr>\n",
       "      <th>2</th>\n",
       "      <td>2020-03-12</td>\n",
       "      <td>22</td>\n",
       "      <td>2</td>\n",
       "      <td>PA Closes Schools</td>\n",
       "    </tr>\n",
       "    <tr>\n",
       "      <th>3</th>\n",
       "      <td>2020-03-13</td>\n",
       "      <td>41</td>\n",
       "      <td>3</td>\n",
       "      <td>none</td>\n",
       "    </tr>\n",
       "    <tr>\n",
       "      <th>4</th>\n",
       "      <td>2020-03-14</td>\n",
       "      <td>47</td>\n",
       "      <td>4</td>\n",
       "      <td>none</td>\n",
       "    </tr>\n",
       "    <tr>\n",
       "      <th>5</th>\n",
       "      <td>2020-03-15</td>\n",
       "      <td>66</td>\n",
       "      <td>5</td>\n",
       "      <td>none</td>\n",
       "    </tr>\n",
       "    <tr>\n",
       "      <th>6</th>\n",
       "      <td>2020-03-16</td>\n",
       "      <td>77</td>\n",
       "      <td>6</td>\n",
       "      <td>none</td>\n",
       "    </tr>\n",
       "    <tr>\n",
       "      <th>7</th>\n",
       "      <td>2020-03-17</td>\n",
       "      <td>112</td>\n",
       "      <td>7</td>\n",
       "      <td>none</td>\n",
       "    </tr>\n",
       "    <tr>\n",
       "      <th>8</th>\n",
       "      <td>2020-03-18</td>\n",
       "      <td>152</td>\n",
       "      <td>8</td>\n",
       "      <td>none</td>\n",
       "    </tr>\n",
       "    <tr>\n",
       "      <th>9</th>\n",
       "      <td>2020-03-19</td>\n",
       "      <td>206</td>\n",
       "      <td>9</td>\n",
       "      <td>none</td>\n",
       "    </tr>\n",
       "    <tr>\n",
       "      <th>10</th>\n",
       "      <td>2020-03-20</td>\n",
       "      <td>303</td>\n",
       "      <td>10</td>\n",
       "      <td>PA Closes All\\nNon-Life-Sustaining\\nBusinesses</td>\n",
       "    </tr>\n",
       "    <tr>\n",
       "      <th>11</th>\n",
       "      <td>2020-03-21</td>\n",
       "      <td>396</td>\n",
       "      <td>11</td>\n",
       "      <td>none</td>\n",
       "    </tr>\n",
       "    <tr>\n",
       "      <th>12</th>\n",
       "      <td>2020-03-22</td>\n",
       "      <td>509</td>\n",
       "      <td>12</td>\n",
       "      <td>none</td>\n",
       "    </tr>\n",
       "  </tbody>\n",
       "</table>\n",
       "</div>"
      ],
      "text/plain": [
       "         date  CumConfirmed  DaysSinceFirstCase  \\\n",
       "0  2020-03-10            12                   0   \n",
       "1  2020-03-11            16                   1   \n",
       "2  2020-03-12            22                   2   \n",
       "3  2020-03-13            41                   3   \n",
       "4  2020-03-14            47                   4   \n",
       "5  2020-03-15            66                   5   \n",
       "6  2020-03-16            77                   6   \n",
       "7  2020-03-17           112                   7   \n",
       "8  2020-03-18           152                   8   \n",
       "9  2020-03-19           206                   9   \n",
       "10 2020-03-20           303                  10   \n",
       "11 2020-03-21           396                  11   \n",
       "12 2020-03-22           509                  12   \n",
       "\n",
       "                                         GovAction  \n",
       "0                                             none  \n",
       "1                                             none  \n",
       "2                                PA Closes Schools  \n",
       "3                                             none  \n",
       "4                                             none  \n",
       "5                                             none  \n",
       "6                                             none  \n",
       "7                                             none  \n",
       "8                                             none  \n",
       "9                                             none  \n",
       "10  PA Closes All\\nNon-Life-Sustaining\\nBusinesses  \n",
       "11                                            none  \n",
       "12                                            none  "
      ]
     },
     "execution_count": 33,
     "metadata": {},
     "output_type": "execute_result"
    }
   ],
   "source": [
    "# Add column for government actions\n",
    "md_data[\"GovAction\"] = \"none\"\n",
    "md_data.loc[md_data.loc[md_data[\"date\"] == \"2020-03-12\"].index[0],\"GovAction\"] = \"MD Closes Schools\\n& Prohibits Gatherings\"\n",
    "md_data.loc[md_data.loc[md_data[\"date\"] == \"2020-03-19\"].index[0],\"GovAction\"] = \"MD Closes Shopping Malls\"\n",
    "#md_data.loc[md_data.loc[md_data[\"date\"] == \"2020-03-23\"].index[0],\"GovAction\"] = \"MD Closes All Non-Essential Businesses\"\n",
    "md_data\n",
    "\n",
    "pa_data[\"GovAction\"] = \"none\"\n",
    "pa_data.loc[pa_data.loc[pa_data[\"date\"] == \"2020-03-12\"].index[0],\"GovAction\"] = \"PA Closes Schools\"\n",
    "pa_data.loc[pa_data.loc[pa_data[\"date\"] == \"2020-03-20\"].index[0],\"GovAction\"] = \"PA Closes All\\nNon-Life-Sustaining\\nBusinesses\"\n",
    "#pa_data"
   ]
  },
  {
   "cell_type": "code",
   "execution_count": 34,
   "metadata": {
    "scrolled": false
   },
   "outputs": [
    {
     "data": {
      "image/png": "[encoded data removed]",
      "text/plain": [
       "<Figure size 1440x720 with 1 Axes>"
      ]
     },
     "metadata": {
      "needs_background": "light"
     },
     "output_type": "display_data"
    }
   ],
   "source": [
    "# Plot the data\n",
    "plt.figure(figsize=(20,10))\n",
    "ax = plt.subplot(111)\n",
    "fig_pa = ax.bar(pa_data[\"DaysSinceFirstCase\"],pa_data[\"CumConfirmed\"], color='b', alpha=0.8)\n",
    "fig_md = ax.bar(md_data[\"DaysSinceFirstCase\"],md_data[\"CumConfirmed\"], color='r', alpha=0.8)\n",
    "#fig_pa = ax.bar(pa_data[\"date\"],pa_data[\"CumConfirmed\"], width=np.timedelta64(16, 'h'), color='b', alpha=0.8)\n",
    "#fig_md = ax.bar(md_data[\"date\"],md_data[\"CumConfirmed\"], width=np.timedelta64(16, 'h'), color='r', alpha=0.8)\n",
    "#ax.axis([\"2020-03-09\", datetime.date(datetime.now()),0,np.maximum(np.max(pa_data[\"CumConfirmed\"].values),np.max(md_data[\"CumConfirmed\"].values))*1.10])\n",
    "plt.title(\"Cumulative Confirmed Cases in PA (blue) and MD (red)\")\n",
    "plt.xlabel(\"Days Since First Case\")\n",
    "plt.ylabel(\"Number of Cases\")\n",
    "\n",
    "# Add tick mark at events\n",
    "for i, fig in enumerate(fig_pa):\n",
    "    x = fig.get_x()\n",
    "    wid = fig.get_width()\n",
    "    height = np.maximum(pa_data[\"CumConfirmed\"].values[i], md_data[\"CumConfirmed\"].values[i])\n",
    "    \n",
    "    md_text = False\n",
    "    pa_text = False\n",
    "    if md_data[\"GovAction\"][i] != \"none\":\n",
    "        ax.text(x + wid/2., height+10, md_data[\"GovAction\"][i], ha='center', va='bottom', rotation=0)\n",
    "        md_text = True\n",
    "        \n",
    "    if pa_data[\"GovAction\"][i] != \"none\":\n",
    "        if md_text == True:\n",
    "            height = height + 25\n",
    "        ax.text(x + wid/2., height+10, pa_data[\"GovAction\"][i], ha='center', va='bottom', rotation=0)\n",
    "\n",
    "plt.show()"
   ]
  },
  {
   "cell_type": "code",
   "execution_count": 37,
   "metadata": {},
   "outputs": [],
   "source": [
    "# Extract just the new cases data from the cumulative confirmed\n",
    "pa_data[\"NewCases\"] = pa_data[\"CumConfirmed\"].diff()\n",
    "pa_data.loc[0,\"NewCases\"] = pa_data[\"CumConfirmed\"][0]\n",
    "md_data[\"NewCases\"] = md_data[\"CumConfirmed\"].diff()\n",
    "md_data.loc[0,\"NewCases\"] = md_data[\"CumConfirmed\"][0]"
   ]
  },
  {
   "cell_type": "code",
   "execution_count": 38,
   "metadata": {},
   "outputs": [
    {
     "data": {
      "image/png": "[encoded data removed]",
      "text/plain": [
       "<Figure size 1440x720 with 1 Axes>"
      ]
     },
     "metadata": {
      "needs_background": "light"
     },
     "output_type": "display_data"
    }
   ],
   "source": [
    "# Plot the new cases data\n",
    "plt.figure(figsize=(20,10))\n",
    "ax = plt.subplot(111)\n",
    "fig_pa = ax.bar(pa_data[\"DaysSinceFirstCase\"],pa_data[\"NewCases\"], color='b', alpha=0.8)\n",
    "fig_md = ax.bar(md_data[\"DaysSinceFirstCase\"],md_data[\"NewCases\"], color='r', alpha=0.8)\n",
    "#fig_pa = ax.bar(pa_data[\"date\"],pa_data[\"NewCases\"], width=np.timedelta64(16, 'h'), color='b', alpha=0.8)\n",
    "#fig_md = ax.bar(md_data[\"date\"],md_data[\"NewCases\"], width=np.timedelta64(16, 'h'), color='r', alpha=0.8)\n",
    "#ax.axis([\"2020-03-09\", datetime.date(datetime.now()),0,np.maximum(np.max(pa_data[\"NewCases\"]),np.max(md_data[\"NewCases\"]))*1.10])\n",
    "plt.title(\"New Confirmed Cases in PA (blue) and MD (red)\")\n",
    "\n",
    "# Add tick mark at events\n",
    "for i, fig in enumerate(fig_pa):\n",
    "    x = fig.get_x()\n",
    "    wid = fig.get_width()\n",
    "    height = np.maximum(pa_data[\"NewCases\"].values[i], md_data[\"NewCases\"].values[i])\n",
    "    \n",
    "    md_text = False\n",
    "    pa_text = False\n",
    "    if md_data[\"GovAction\"][i] != \"none\":\n",
    "        ax.text(x + wid/2., height+1, md_data[\"GovAction\"][i], ha='center', va='bottom', rotation=0)\n",
    "        md_text = True\n",
    "        \n",
    "    if pa_data[\"GovAction\"][i] != \"none\":\n",
    "        if md_text == True:\n",
    "            height = height + 5\n",
    "        ax.text(x + wid/2., height+1, pa_data[\"GovAction\"][i], ha='center', va='bottom', rotation=0)\n",
    "\n",
    "\n",
    "plt.show()"
   ]
  },
  {
   "cell_type": "code",
   "execution_count": null,
   "metadata": {},
   "outputs": [],
   "source": []
  }
 ],
 "metadata": {
  "kernelspec": {
   "display_name": "Python 3",
   "language": "python",
   "name": "python3"
  },
  "language_info": {
   "codemirror_mode": {
    "name": "ipython",
    "version": 3
   },
   "file_extension": ".py",
   "mimetype": "text/x-python",
   "name": "python",
   "nbconvert_exporter": "python",
   "pygments_lexer": "ipython3",
   "version": "3.6.5"
  }
 },
 "nbformat": 4,
 "nbformat_minor": 2
}
