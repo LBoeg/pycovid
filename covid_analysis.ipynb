{
 "cells": [
  {
   "cell_type": "code",
   "execution_count": 23,
   "metadata": {},
   "outputs": [],
   "source": [
    "# Import python libraries\n",
    "import pandas as pd\n",
    "import numpy as np\n",
    "%matplotlib inline\n",
    "import matplotlib.pyplot as plt\n",
    "from matplotlib import style\n",
    "from datetime import datetime\n",
    "import wikipediaapi\n",
    "import nltk\n",
    "from nltk.tokenize import sent_tokenize, word_tokenize\n",
    "style.use('ggplot')\n",
    "\n",
    "# Specify which US State to analyze:\n",
    "state = \"Maryland\"\n"
   ]
  },
  {
   "cell_type": "code",
   "execution_count": 2,
   "metadata": {},
   "outputs": [],
   "source": [
    "# Load data function\n",
    "def load_data(data_url, file_name, column_name):\n",
    "    data = pd.read_csv(data_url + file_name) \\\n",
    "             .drop(['Lat', 'Long'], axis=1) \\\n",
    "             .melt(id_vars=['Province/State', 'Country/Region'], \\\n",
    "                   var_name='date', value_name=column_name) \\\n",
    "             .fillna('<all>')\n",
    "    data['date'] = data['date'].astype('datetime64[ns]')\n",
    "    return data"
   ]
  },
  {
   "cell_type": "code",
   "execution_count": 3,
   "metadata": {},
   "outputs": [],
   "source": [
    "# Read the data from the JHU Database\n",
    "data_url = \"https://raw.githubusercontent.com/CSSEGISandData/COVID-19/master/csse_covid_19_data/csse_covid_19_time_series/\"\n",
    "data = load_data(data_url, \"time_series_19-covid-Confirmed.csv\", \"CumConfirmed\")\n",
    "#print(data.head())"
   ]
  },
  {
   "cell_type": "code",
   "execution_count": 4,
   "metadata": {},
   "outputs": [],
   "source": [
    "# Analyze the country/region portion of the data\n",
    "countries = data['Country/Region'].unique()\n",
    "countries.sort()\n",
    "#print(countries)"
   ]
  },
  {
   "cell_type": "code",
   "execution_count": 5,
   "metadata": {},
   "outputs": [],
   "source": [
    "# Retain just the US data\n",
    "us_data = data[data['Country/Region']==\"US\"].drop([\"Country/Region\"],axis=1)\n",
    "us_data.reset_index(inplace=True, drop=True)\n",
    "#print(us_data)"
   ]
  },
  {
   "cell_type": "code",
   "execution_count": 6,
   "metadata": {},
   "outputs": [],
   "source": [
    "# Analyze the province/state portion of the data\n",
    "states = data['Province/State'].unique()\n",
    "states.sort()\n",
    "#print(len(states))"
   ]
  },
  {
   "cell_type": "code",
   "execution_count": 7,
   "metadata": {},
   "outputs": [],
   "source": [
    "# Retain just the state-of-interest data\n",
    "state_data = us_data[us_data['Province/State']==state].drop([\"Province/State\"],axis=1)\n",
    "state_data.reset_index(inplace=True, drop=True)\n",
    "#print(state_data)"
   ]
  },
  {
   "cell_type": "code",
   "execution_count": 8,
   "metadata": {},
   "outputs": [],
   "source": [
    "# Create new column with days since first case\n",
    "state_data = state_data.iloc[state_data[\"CumConfirmed\"].nonzero()[0]].reset_index(drop=True)\n",
    "state_data[\"DaysSinceFirstCase\"] = np.arange(state_data.shape[0])"
   ]
  },
  {
   "cell_type": "code",
   "execution_count": 9,
   "metadata": {},
   "outputs": [],
   "source": [
    "# Read information from wikipedia\n",
    "wiki = wikipediaapi.Wikipedia('en')\n",
    "if state == \"Washington\":\n",
    "    state = \"Washington (state)\"\n",
    "state_wiki = wiki.page(\"2020 coronavirus pandemic in {}\".format(state.replace(' ','_')))\n",
    "#print(state_wiki.text)"
   ]
  },
  {
   "cell_type": "code",
   "execution_count": 45,
   "metadata": {},
   "outputs": [],
   "source": [
    "# Extract the government response section\n",
    "gov_resp_indx = state_wiki.text.lower().find(\"government response\")\n",
    "end_gov_resp_indx = state_wiki.text.lower().find(\"impact on sports\")\n",
    "if end_gov_resp_indx == -1:\n",
    "    end_gov_resp_indx = state_wiki.text.lower().find(\"effects on sports\")    \n",
    "gov_resp_text = state_wiki.text[gov_resp_indx:end_gov_resp_indx].replace('\\n','')\n",
    "#print(gov_resp_text)\n",
    "\n",
    "sentences = sent_tokenize(gov_resp_text.replace('.','. '))\n",
    "\n",
    "# Find sentences with dates in government responses\n",
    "months = [\n",
    "    \"On January\", \n",
    "    \"On February\", \n",
    "    \"On March\", \n",
    "    \"On April\", \n",
    "    \"On May\", \n",
    "    \"On June\", \n",
    "    \"On July\", \n",
    "    \"On August\", \n",
    "    \"On October\", \n",
    "    \"On November\", \n",
    "    \"On December\",\n",
    "    ]\n",
    "sentences_indx = []\n",
    "for month in months:\n",
    "    sentences_indx = sentences_indx + [i for i in range(len(sentences)) if str(sentences[i]).startswith(month)] \n",
    "actions = []\n",
    "for indx in sentences_indx:\n",
    "    actions.append(sentences[indx])\n",
    "#print(actions[0])"
   ]
  },
  {
   "cell_type": "code",
   "execution_count": 47,
   "metadata": {},
   "outputs": [
    {
     "name": "stdout",
     "output_type": "stream",
     "text": [
      "['March 12', 'March 15', 'March 15', 'March 16', 'March 23']\n",
      "['On March 12, Governor Hogan declared all Maryland public schools were to be closed from March 16 through March 27, gatherings of more than 250 people were banned, and the Maryland National Guard was activated to a higher state of readiness.', 'On March 15, Governor Hogan ordered all Maryland casinos, racetracks, and off-track betting parlors to shut down to help prevent the spread of coronavirus.', 'On March 15, Howard County Executive Calvin Ball declared a state of emergency in Howard County following the first confirmed case of coronavirus in the county.', 'On March 16, Governor Hogan signed an executive order banning gatherings of over 50 people as recommended by the CDC.', 'On March 23, Governor Larry Hogan ordered all non-essential businesses in the state to close effective at 5 p. m.  Monday to prevent further spread of COVID-19.']\n"
     ]
    }
   ],
   "source": [
    "# Find sentences corresponding with date indicies\n",
    "action_dates = []\n",
    "for i in range(len(actions)):\n",
    "    date_indx_end = actions[i].find(',')\n",
    "    date_raw = actions[i][0+3:date_indx_end]\n",
    "    action_dates.append(date_raw)\n",
    "print(action_dates)\n",
    "print(actions)\n",
    "\n",
    "# Convert action dates to YYYY-MM-DD format\n",
    "def month_to_num(month):\n",
    "    return{\n",
    "        'January' : 1,\n",
    "        'February' : 2,\n",
    "        'March' : 3,\n",
    "        'April' : 4,\n",
    "        'May' : 5,\n",
    "        'June' : 6,\n",
    "        'July' : 7,\n",
    "        'August' : 8,\n",
    "        'September' : 9, \n",
    "        'October' : 10,\n",
    "        'November' : 11,\n",
    "        'December' : 12\n",
    "    }[month]\n",
    "\n",
    "converted_dates = []\n",
    "for action_date in action_dates:\n",
    "    space_indx = action_date.find(' ')\n",
    "    month_num = month_to_num(action_date[:space_indx])\n",
    "    date_num = action_date[space_indx+1:]\n",
    "    converted_dates.append(\"2020-{}-{}\".format(str(month_num).zfill(2), str(date_num).zfill(2)))\n",
    "#print(converted_dates)"
   ]
  },
  {
   "cell_type": "code",
   "execution_count": 48,
   "metadata": {},
   "outputs": [],
   "source": [
    "# Add column in dataframe for government actions\n",
    "state_data[\"GovAction\"] = \"none\"\n",
    "for i, date in enumerate(converted_dates):\n",
    "    if date in str(state_data[\"date\"].values):\n",
    "        state_data.loc[state_data.loc[state_data[\"date\"] == date].index[0], \"GovAction\"] = str(actions[i])\n",
    "#print(state_data)"
   ]
  },
  {
   "cell_type": "code",
   "execution_count": 49,
   "metadata": {
    "scrolled": false
   },
   "outputs": [
    {
     "data": {
      "image/png": "[encoded data removed]",
      "text/plain": [
       "<Figure size 1440x720 with 1 Axes>"
      ]
     },
     "metadata": {},
     "output_type": "display_data"
    },
    {
     "name": "stdout",
     "output_type": "stream",
     "text": [
      "Day 2: On March 12, Governor Hogan declared all Maryland public schools were to be closed from March 16 through March 27, gatherings of more than 250 people were banned, and the Maryland National Guard was activated to a higher state of readiness.\n",
      "\n",
      "Day 5: On March 15, Howard County Executive Calvin Ball declared a state of emergency in Howard County following the first confirmed case of coronavirus in the county.\n",
      "\n",
      "Day 6: On March 16, Governor Hogan signed an executive order banning gatherings of over 50 people as recommended by the CDC.\n",
      "\n",
      "Day 13: On March 23, Governor Larry Hogan ordered all non-essential businesses in the state to close effective at 5 p. m.  Monday to prevent further spread of COVID-19.\n",
      "\n"
     ]
    }
   ],
   "source": [
    "# Plot the data\n",
    "plt.figure(figsize=(20,10))\n",
    "ax = plt.subplot(111)\n",
    "fig_state = ax.bar(state_data[\"DaysSinceFirstCase\"],state_data[\"CumConfirmed\"], color='r', alpha=0.8)\n",
    "plt.title(\"Cumulative Confirmed Cases in {}\".format(state))\n",
    "plt.xlabel(\"Days Since First Case\")\n",
    "plt.ylabel(\"Number of Cases\")\n",
    "\n",
    "# Add tick mark at events\n",
    "for i, fig in enumerate(fig_state):\n",
    "    x = fig.get_x()\n",
    "    wid = fig.get_width()\n",
    "    height = state_data[\"CumConfirmed\"].values[i]\n",
    " \n",
    "    if state_data[\"GovAction\"][i] != \"none\":\n",
    "        ax.text(x + wid/2., height, \"x\", ha='center', va='bottom', rotation=0)\n",
    "\n",
    "plt.show()\n",
    "\n",
    "# Label tick mark events\n",
    "for i in range(state_data.shape[0]):\n",
    "    if state_data[\"GovAction\"][i] != \"none\":\n",
    "        print(\"Day {}: {}\\n\".format(i, state_data[\"GovAction\"][i]))\n"
   ]
  },
  {
   "cell_type": "code",
   "execution_count": 50,
   "metadata": {},
   "outputs": [],
   "source": [
    "# Extract just the new cases data from the cumulative confirmed\n",
    "state_data[\"NewCases\"] = state_data[\"CumConfirmed\"].diff()\n",
    "state_data.loc[0,\"NewCases\"] = state_data[\"CumConfirmed\"][0]"
   ]
  },
  {
   "cell_type": "code",
   "execution_count": 51,
   "metadata": {},
   "outputs": [
    {
     "data": {
      "image/png": "[encoded data removed]",
      "text/plain": [
       "<Figure size 1440x720 with 1 Axes>"
      ]
     },
     "metadata": {},
     "output_type": "display_data"
    },
    {
     "name": "stdout",
     "output_type": "stream",
     "text": [
      "Day 2: On March 12, Governor Hogan declared all Maryland public schools were to be closed from March 16 through March 27, gatherings of more than 250 people were banned, and the Maryland National Guard was activated to a higher state of readiness.\n",
      "\n",
      "Day 5: On March 15, Howard County Executive Calvin Ball declared a state of emergency in Howard County following the first confirmed case of coronavirus in the county.\n",
      "\n",
      "Day 6: On March 16, Governor Hogan signed an executive order banning gatherings of over 50 people as recommended by the CDC.\n",
      "\n",
      "Day 13: On March 23, Governor Larry Hogan ordered all non-essential businesses in the state to close effective at 5 p. m.  Monday to prevent further spread of COVID-19.\n",
      "\n"
     ]
    }
   ],
   "source": [
    "# Plot the new cases data\n",
    "plt.figure(figsize=(20,10))\n",
    "ax = plt.subplot(111)\n",
    "fig_state = ax.bar(state_data[\"DaysSinceFirstCase\"],state_data[\"NewCases\"], color='r', alpha=0.8)\n",
    "plt.title(\"New Confirmed Cases in {}\".format(state))\n",
    "\n",
    "# Add tick mark at events\n",
    "for i, fig in enumerate(fig_state):\n",
    "    x = fig.get_x()\n",
    "    wid = fig.get_width()\n",
    "    height = state_data[\"NewCases\"].values[i]\n",
    "    \n",
    "    if state_data[\"GovAction\"][i] != \"none\":\n",
    "        ax.text(x + wid/2., height, \"x\", ha='center', va='bottom', rotation=0)\n",
    "    \n",
    "plt.show()\n",
    "\n",
    "# Label tick mark events\n",
    "for i in range(state_data.shape[0]):\n",
    "    if state_data[\"GovAction\"][i] != \"none\":\n",
    "        print(\"Day {}: {}\\n\".format(i, state_data[\"GovAction\"][i]))"
   ]
  },
  {
   "cell_type": "code",
   "execution_count": null,
   "metadata": {},
   "outputs": [],
   "source": []
  }
 ],
 "metadata": {
  "kernelspec": {
   "display_name": "Python 3",
   "language": "python",
   "name": "python3"
  },
  "language_info": {
   "codemirror_mode": {
    "name": "ipython",
    "version": 3
   },
   "file_extension": ".py",
   "mimetype": "text/x-python",
   "name": "python",
   "nbconvert_exporter": "python",
   "pygments_lexer": "ipython3",
   "version": "3.6.5"
  }
 },
 "nbformat": 4,
 "nbformat_minor": 2
}
